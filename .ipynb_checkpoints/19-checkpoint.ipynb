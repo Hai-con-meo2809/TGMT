{
 "cells": [
  {
   "cell_type": "code",
   "execution_count": 2,
   "id": "509f582f-b621-4754-a9ae-01d194a19dd4",
   "metadata": {},
   "outputs": [],
   "source": [
    "def display(title, img):\n",
    "    cv2.imshow(title, img)\n",
    "    # Chờ một khoảng thời gian\n",
    "    cv2.waitKey(0)\n",
    "    # Đóng window\n",
    "    cv2.destroyWindow(title)"
   ]
  },
  {
   "cell_type": "code",
   "execution_count": 4,
   "id": "c7ba3627-1019-47bd-b925-cd6e24c708c5",
   "metadata": {},
   "outputs": [],
   "source": [
    "# Import thư viện\n",
    "import cv2"
   ]
  },
  {
   "cell_type": "code",
   "execution_count": 6,
   "id": "7b6fc022-86bc-402a-9717-dcf430accbe7",
   "metadata": {},
   "outputs": [
    {
     "name": "stdout",
     "output_type": "stream",
     "text": [
      "[[[ 0  9  8]\n",
      "  [ 0  9  8]\n",
      "  [ 0  7 10]\n",
      "  ...\n",
      "  [ 0  1  5]\n",
      "  [ 1  2  6]\n",
      "  [ 1  2  6]]\n",
      "\n",
      " [[ 0  4  6]\n",
      "  [ 0  2  4]\n",
      "  [ 0  0  3]\n",
      "  ...\n",
      "  [ 1  2  6]\n",
      "  [ 1  2  6]\n",
      "  [ 1  2  6]]\n",
      "\n",
      " [[ 0  9 13]\n",
      "  [ 0  9 13]\n",
      "  [ 0  3  7]\n",
      "  ...\n",
      "  [ 3  4  8]\n",
      "  [ 2  3  7]\n",
      "  [ 1  2  6]]\n",
      "\n",
      " ...\n",
      "\n",
      " [[ 8  2  7]\n",
      "  [ 8  2  7]\n",
      "  [ 8  2  7]\n",
      "  ...\n",
      "  [ 9  0 11]\n",
      "  [11  1 14]\n",
      "  [15  5 18]]\n",
      "\n",
      " [[ 6  2  7]\n",
      "  [ 6  2  7]\n",
      "  [ 6  2  7]\n",
      "  ...\n",
      "  [11  3 13]\n",
      "  [11  3 14]\n",
      "  [13  5 16]]\n",
      "\n",
      " [[ 6  2  7]\n",
      "  [ 6  2  7]\n",
      "  [ 6  2  7]\n",
      "  ...\n",
      "  [10  5 14]\n",
      "  [10  4 15]\n",
      "  [12  6 17]]]\n"
     ]
    }
   ],
   "source": [
    "# Đọc một ảnh (nhan TAB de nhin autocomplete)\n",
    "path= 'C:\\\\Users\\\\thach\\\\Anh_TGMT\\\\vutru.jpg'\n",
    "img = cv2.imread(path)\n",
    "# In thông tin của ảnh\n",
    "print(img)"
   ]
  },
  {
   "cell_type": "code",
   "execution_count": 8,
   "id": "57cc6b93-048f-42e4-834f-d256b2f15e33",
   "metadata": {},
   "outputs": [
    {
     "name": "stdout",
     "output_type": "stream",
     "text": [
      "(200, 200, 3)\n",
      "200\n",
      "200\n",
      "3\n"
     ]
    }
   ],
   "source": [
    "# Lấy kích thước\n",
    "print(img.shape)\n",
    "x, y, z = img.shape\n",
    "print(x)\n",
    "print(y)\n",
    "print(z)"
   ]
  },
  {
   "cell_type": "code",
   "execution_count": null,
   "id": "247d7323-4359-4d72-b5ae-2347ba38d9b9",
   "metadata": {},
   "outputs": [],
   "source": [
    "# Hiển thị ảnh\n",
    "cv2.imshow('Window', img)\n",
    "# Chờ một khoảng thời gian\n",
    "cv2.waitKey(10000)\n",
    "# Đóng window\n",
    "cv2.destroyWindow('Window')"
   ]
  },
  {
   "cell_type": "code",
   "execution_count": null,
   "id": "d93e7170-7e53-4fcd-b157-ffcd296bb82d",
   "metadata": {},
   "outputs": [],
   "source": [
    "# Tách màu\n",
    "b, g, r = cv2.split(img)\n",
    "cv2.imshow('Window', img)\n",
    "cv2.imshow('Red', r)\n",
    "cv2.imshow('Green', g)\n",
    "cv2.imshow('Blue', b)\n",
    "\n",
    "# Chờ một khoảng thời gian\n",
    "cv2.waitKey(0)\n",
    "# Đóng window\n",
    "cv2.destroyAllWindows()"
   ]
  },
  {
   "cell_type": "code",
   "execution_count": null,
   "id": "95037ad0-d129-4508-a51b-20945b1b7d44",
   "metadata": {},
   "outputs": [],
   "source": [
    "gray_img = cv2.cvtColor(img, cv2.COLOR_BGR2GRAY)\n",
    "img_2 = cv2.cvtColor(img, cv2.COLOR_BGR2RGB)\n",
    "cv2.imshow('Window', img)\n",
    "cv2.imshow('gray_img', gray_img)\n",
    "cv2.imshow('img_2', img_2)\n",
    "# Chờ một khoảng thời gian\n",
    "cv2.waitKey(0)\n",
    "# Đóng window\n",
    "cv2.destroyAllWindows()"
   ]
  },
  {
   "cell_type": "code",
   "execution_count": null,
   "id": "ef4c047a-9a28-4afd-8816-bf180348494b",
   "metadata": {},
   "outputs": [],
   "source": [
    "# Thay đổi thông số của điểm ảnh\n",
    "height, width, z = img.shape\n",
    "quater_h = height/2\n",
    "quater_w = width/2\n",
    "\n",
    "# geen color\n",
    "green_color = (0,255,0)\n",
    "\n",
    "# copy ảnh\n",
    "img2 = img.copy()\n",
    "\n",
    "# thay đổi màu của góc 1/4 bên trái trên\n",
    "\n",
    "for y in range(int(quater_h)):\n",
    "    for x in range(int(quater_w)):\n",
    "        img2[y, x] = green_color\n",
    "# Hiển thị\n",
    "display('Window', img)\n",
    "display('Window-2', img2)"
   ]
  },
  {
   "cell_type": "code",
   "execution_count": null,
   "id": "2b23bf55-89d3-4d20-b157-b3e4c221067c",
   "metadata": {},
   "outputs": [],
   "source": []
  }
 ],
 "metadata": {
  "kernelspec": {
   "display_name": "Python 3 (ipykernel)",
   "language": "python",
   "name": "python3"
  },
  "language_info": {
   "codemirror_mode": {
    "name": "ipython",
    "version": 3
   },
   "file_extension": ".py",
   "mimetype": "text/x-python",
   "name": "python",
   "nbconvert_exporter": "python",
   "pygments_lexer": "ipython3",
   "version": "3.12.4"
  }
 },
 "nbformat": 4,
 "nbformat_minor": 5
}
